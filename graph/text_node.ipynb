{
 "cells": [
  {
   "cell_type": "code",
   "execution_count": 1,
   "metadata": {},
   "outputs": [],
   "source": [
    "# Define a color scheme for different types\n",
    "color_map = {\n",
    "    '\"ORGANIZATION\"': 'blue',\n",
    "    '\"EVENT\"': 'green',\n",
    "    '\"PERSON\"': 'purple',\n",
    "    '\"GEO\"': 'red',\n",
    "    # Add more types and colors as needed\n",
    "}"
   ]
  },
  {
   "cell_type": "code",
   "execution_count": 2,
   "metadata": {},
   "outputs": [],
   "source": [
    "import networkx as nx\n",
    "import json\n",
    "import ipywidgets as widgets\n",
    "from IPython.display import display\n",
    "\n",
    "\n",
    "# Load the .graphml file\n",
    "graphml_file = '/home/ljc/graphrag/ragtest/output/20240801-183929/artifacts/merged_graph.graphml'  # Replace with the actual path to your .graphml file\n",
    "graph = nx.read_graphml(graphml_file)\n",
    "\n",
    "# Define a color scheme for different types\n",
    "color_map = {\n",
    "    'ORGANIZATION': '#008B8B',\n",
    "    'EVENT': '#8FBC8F',\n",
    "    'PERSON': '#E9967A',\n",
    "    'GEO': '#A9A9A9',\n",
    "    # Add more types and colors as needed\n",
    "}\n",
    "\n",
    "# Extract nodes and edges, cleaning up the escape characters\n",
    "nodes = [{'id': str(node_id).strip('\"'), 'type': data.get('type', '').strip('\"')} for node_id, data in graph.nodes(data=True)]\n",
    "edges = [{'source': str(edge[0]).strip('\"'), 'target': str(edge[1]).strip('\"')} for edge in graph.edges()]\n",
    "\n",
    "# Convert to JSON format required by 3d-force-graph\n",
    "graph_data = {\n",
    "    'nodes': nodes,\n",
    "    'links': edges\n",
    "}\n",
    "\n",
    "# Convert the graph data to JSON string\n",
    "graph_data_json = json.dumps(graph_data, ensure_ascii=False)\n",
    "\n",
    "# Create the HTML content for 3d-force-graph\n",
    "html_content = f\"\"\"<!DOCTYPE html>\n",
    "<html lang=\"en\">\n",
    "<head>\n",
    "    <style> body {{ margin: 0; }} </style>\n",
    "    <script src=\"https://unpkg.com/3d-force-graph\"></script>\n",
    "</head>\n",
    "<body>\n",
    "    <div id=\"3d-graph\" style=\"width: 100vw; height: 100vh;\"></div>\n",
    "\n",
    "    <script type=\"importmap\"> \n",
    "    {{\n",
    "        \"imports\": {{ \n",
    "            \"three\": \"https://unpkg.com/three/build/three.module.js\" \n",
    "        }}\n",
    "    }}\n",
    "    </script>\n",
    "    <script type=\"module\">\n",
    "        import SpriteText from \"https://unpkg.com/three-spritetext/dist/three-spritetext.mjs\";\n",
    "        import * as d3 from \"https://unpkg.com/d3@6?module\";\n",
    "\n",
    "        const graphData = {graph_data_json};\n",
    "\n",
    "        const colorMap = {{\n",
    "            'ORGANIZATION': '#008B8B',\n",
    "            'EVENT': '#8FBC8F',\n",
    "            'PERSON': '#E9967A',\n",
    "            'GEO': '#A9A9A9',\n",
    "            '': 'gray'  // Default color for undefined types\n",
    "        }};\n",
    "\n",
    "        const Graph = ForceGraph3D()\n",
    "            (document.getElementById('3d-graph'))\n",
    "                .graphData(graphData)\n",
    "                .nodeAutoColorBy('type')\n",
    "                .nodeThreeObject(node => {{\n",
    "                    const sprite = new SpriteText(node.id);\n",
    "                    sprite.material.depthWrite = false; // make sprite background transparent\n",
    "                    sprite.color = colorMap[node.type] || 'gray';\n",
    "                    sprite.textHeight = 8;\n",
    "                    return sprite;\n",
    "                }});\n",
    "\n",
    "        // Increase repulsion force and link distance\n",
    "        Graph.d3Force('charge', d3.forceManyBody().strength(-300));\n",
    "        Graph.d3Force('link', d3.forceLink().distance(200));\n",
    "\n",
    "\n",
    "    </script>\n",
    "</body>\n",
    "</html>\n",
    "\"\"\"\n",
    "\n",
    "# Display the HTML content using ipywidgets\n",
    "html_widget = widgets.HTML(value=html_content)\n",
    "\n"
   ]
  },
  {
   "cell_type": "code",
   "execution_count": 4,
   "metadata": {},
   "outputs": [
    {
     "data": {
      "text/plain": [
       "'{\"nodes\": [{\"id\": \"OPENAI\", \"type\": \"ORGANIZATION\"}, {\"id\": \"SAM ALTMAN\", \"type\": \"PERSON\"}, {\"id\": \"LAWRENCE SUMMERS\", \"type\": \"PERSON\"}, {\"id\": \"PAUL NAKASONE\", \"type\": \"PERSON\"}, {\"id\": \"SAN FRANCISCO\", \"type\": \"GEO\"}, {\"id\": \"MICROSOFT\", \"type\": \"ORGANIZATION\"}, {\"id\": \"CHATGPT\", \"type\": \"EVENT\"}, {\"id\": \"OPENAI FIVE\", \"type\": \"EVENT\"}, {\"id\": \"DALL-E\", \"type\": \"EVENT\"}, {\"id\": \"SORA\", \"type\": \"EVENT\"}, {\"id\": \"OPENAI GLOBAL, LLC\", \"type\": \"ORGANIZATION\"}, {\"id\": \"BRET TAYLOR\", \"type\": \"PERSON\"}, {\"id\": \"ARTIFICIAL INTELLIGENCE\", \"type\": \"CONCEPT\"}, {\"id\": \"AI BOOM\", \"type\": \"EVENT\"}, {\"id\": \"LAWSUITS\", \"type\": \"EVENT\"}, {\"id\": \"OPENAI, INC.\", \"type\": \"\"}, {\"id\": \"TIM COOK\", \"type\": \"PERSON\"}, {\"id\": \"APPLE\", \"type\": \"ORGANIZATION\"}, {\"id\": \"2024\", \"type\": \"EVENT\"}, {\"id\": \"INNOVATIVE VISION\", \"type\": \"CONCEPT\"}, {\"id\": \"LEADERSHIP CHANGE\", \"type\": \"\"}], \"links\": [{\"source\": \"OPENAI\", \"target\": \"SAM ALTMAN\"}, {\"source\": \"OPENAI\", \"target\": \"MICROSOFT\"}, {\"source\": \"OPENAI\", \"target\": \"SAN FRANCISCO\"}, {\"source\": \"OPENAI\", \"target\": \"CHATGPT\"}, {\"source\": \"OPENAI\", \"target\": \"DALL-E\"}, {\"source\": \"OPENAI\", \"target\": \"SORA\"}, {\"source\": \"OPENAI\", \"target\": \"LAWRENCE SUMMERS\"}, {\"source\": \"OPENAI\", \"target\": \"PAUL NAKASONE\"}, {\"source\": \"OPENAI\", \"target\": \"OPENAI, INC.\"}, {\"source\": \"OPENAI\", \"target\": \"OPENAI GLOBAL, LLC\"}, {\"source\": \"OPENAI\", \"target\": \"BRET TAYLOR\"}, {\"source\": \"OPENAI\", \"target\": \"ARTIFICIAL INTELLIGENCE\"}, {\"source\": \"OPENAI\", \"target\": \"AI BOOM\"}, {\"source\": \"OPENAI\", \"target\": \"LAWSUITS\"}, {\"source\": \"OPENAI\", \"target\": \"TIM COOK\"}, {\"source\": \"OPENAI\", \"target\": \"APPLE\"}, {\"source\": \"OPENAI\", \"target\": \"2024\"}, {\"source\": \"OPENAI\", \"target\": \"LEADERSHIP CHANGE\"}, {\"source\": \"TIM COOK\", \"target\": \"APPLE\"}, {\"source\": \"TIM COOK\", \"target\": \"2024\"}, {\"source\": \"TIM COOK\", \"target\": \"INNOVATIVE VISION\"}, {\"source\": \"APPLE\", \"target\": \"LEADERSHIP CHANGE\"}]}'"
      ]
     },
     "execution_count": 4,
     "metadata": {},
     "output_type": "execute_result"
    }
   ],
   "source": [
    "graph_data_json"
   ]
  },
  {
   "cell_type": "code",
   "execution_count": 3,
   "metadata": {},
   "outputs": [],
   "source": [
    "# Save the HTML content to a file\n",
    "with open('text_node.html', 'w') as f:\n",
    "    f.write(html_content)\n"
   ]
  },
  {
   "cell_type": "markdown",
   "metadata": {},
   "source": []
  },
  {
   "cell_type": "markdown",
   "metadata": {},
   "source": []
  },
  {
   "cell_type": "markdown",
   "metadata": {},
   "source": []
  },
  {
   "cell_type": "markdown",
   "metadata": {},
   "source": []
  },
  {
   "cell_type": "markdown",
   "metadata": {},
   "source": []
  },
  {
   "cell_type": "markdown",
   "metadata": {},
   "source": []
  }
 ],
 "metadata": {
  "kernelspec": {
   "display_name": "unsloth_env",
   "language": "python",
   "name": "python3"
  },
  "language_info": {
   "codemirror_mode": {
    "name": "ipython",
    "version": 3
   },
   "file_extension": ".py",
   "mimetype": "text/x-python",
   "name": "python",
   "nbconvert_exporter": "python",
   "pygments_lexer": "ipython3",
   "version": "3.11.0"
  }
 },
 "nbformat": 4,
 "nbformat_minor": 2
}
